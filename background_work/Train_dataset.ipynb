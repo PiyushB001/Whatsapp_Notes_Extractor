{
 "cells": [
  {
   "cell_type": "code",
   "execution_count": null,
   "metadata": {},
   "outputs": [],
   "source": [
    "from keras.models import Sequential\n",
    "from keras.layers import *\n",
    "from keras.preprocessing.image import *\n",
    "import numpy as np\n",
    "import matplotlib.pyplot as plt\n",
    "from CNN_model import model"
   ]
  },
  {
   "cell_type": "code",
   "execution_count": null,
   "metadata": {},
   "outputs": [],
   "source": [
    "#data augmentation\n",
    "\n",
    "train_datagen = ImageDataGenerator(\n",
    "        rescale=1./255,    \n",
    "        rotation_range= 30,\n",
    "        width_shift_range=0.15,\n",
    "        height_shift_range= 0.15,\n",
    "        shear_range = 0.2,\n",
    "        zoom_range = 0.2,\n",
    "        horizontal_flip = True,\n",
    "        fill_mode = 'nearest')\n",
    "\n",
    "train_generator = train_datagen.flow_from_directory(\n",
    "        'c:/users/jack/Desktop/Whatsapp_notes_extractor/background_work/data', # this is the target data directory\n",
    "        target_size=(124, 124),  # all images will be resized to \n",
    "        batch_size = 4,\n",
    "        class_mode='binary') "
   ]
  },
  {
   "cell_type": "code",
   "execution_count": null,
   "metadata": {},
   "outputs": [],
   "source": [
    "x, y = next(train_generator)\n",
    "x.shape, y.shape\n",
    "plt.imshow(x[3])"
   ]
  },
  {
   "cell_type": "code",
   "execution_count": null,
   "metadata": {},
   "outputs": [],
   "source": [
    "model = model()\n",
    "\n",
    "model.fit_generator(\n",
    "        train_generator,\n",
    "        steps_per_epoch=2000 // 4,\n",
    "        epochs=5)\n",
    "\n",
    "model.save_weights('weight.h5') "
   ]
  },
  {
   "cell_type": "code",
   "execution_count": null,
   "metadata": {},
   "outputs": [],
   "source": [
    "x, y = next(train_generator)\n",
    "x.shape,y.shape"
   ]
  },
  {
   "cell_type": "code",
   "execution_count": null,
   "metadata": {},
   "outputs": [],
   "source": [
    "x, y = next(train_generator)\n",
    "y = y.reshape(len(y), 1)\n",
    "y_pred = model.predict(x)\n",
    "y_pred = (y_pred > 0.5) * 1"
   ]
  },
  {
   "cell_type": "code",
   "execution_count": null,
   "metadata": {},
   "outputs": [],
   "source": [
    "import random\n",
    "from glob import glob\n",
    "\n",
    "img_path = random.choice(glob('data/0/*'))\n",
    "img = load_img(img_path, target_size=(124, 124, 3)) # this is a PIL image\n",
    "x = img_to_array(img) / 255.0\n",
    "y = model.predict(np.expand_dims(x, axis=0))\n",
    "print(np.squeeze(y) > 0.5)\n",
    "img"
   ]
  },
  {
   "cell_type": "code",
   "execution_count": null,
   "metadata": {},
   "outputs": [],
   "source": []
  }
 ],
 "metadata": {
  "kernelspec": {
   "display_name": "Python 3",
   "language": "python",
   "name": "python3"
  },
  "language_info": {
   "codemirror_mode": {
    "name": "ipython",
    "version": 3
   },
   "file_extension": ".py",
   "mimetype": "text/x-python",
   "name": "python",
   "nbconvert_exporter": "python",
   "pygments_lexer": "ipython3",
   "version": "3.7.4"
  }
 },
 "nbformat": 4,
 "nbformat_minor": 2
}
